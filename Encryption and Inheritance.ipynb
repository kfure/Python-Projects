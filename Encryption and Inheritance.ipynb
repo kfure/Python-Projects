{
 "cells": [
  {
   "cell_type": "markdown",
   "metadata": {},
   "source": [
    "### Encryption and Object Inheritance\n",
    "\n",
    "The encryption scheme works as follows:\n",
    "1. Send in a string of letters into the `__init__` function\n",
    "2. This string of letters will make up the first letters of the new alphabet\n",
    "3. After this all remaining letters in the actual english alphabet will be added to my new alphabet in reverse order\n",
    "4. To encrypt a string I look up the position of a character in the original english alphabet, then find the corresponding character in the new alphabet and swap the two characters in the string"
   ]
  },
  {
   "cell_type": "code",
   "execution_count": 2,
   "metadata": {},
   "outputs": [],
   "source": [
    "import string\n",
    "class simple_encryption:\n",
    "    def __init__(self, seed_string):\n",
    "        self.original_alphabet = string.ascii_lowercase + \" \"\n",
    "        self.new_alphabet = seed_string\n",
    "        for char in self.original_alphabet[::-1]:\n",
    "            if char not in self.new_alphabet:\n",
    "                self.new_alphabet += char\n",
    "        \n",
    "    def encrypt(self, text):\n",
    "        text = text.lower()\n",
    "        encrypted_text = \"\"\n",
    "        for c in text:\n",
    "            idx = self.original_alphabet.index(c)\n",
    "            encrypted_text = encrypted_text + self.new_alphabet[idx]\n",
    "        return encrypted_text"
   ]
  },
  {
   "cell_type": "code",
   "execution_count": 4,
   "metadata": {},
   "outputs": [
    {
     "name": "stdout",
     "output_type": "stream",
     "text": [
      "abcdefghijklmnopqrstuvwxy z\n"
     ]
    }
   ],
   "source": [
    "seed_string = \"abcdefghijklmnopqrstuvwxy\"\n",
    "encrypter = simple_encryption(seed_string)\n",
    "print(encrypter.new_alphabet)\n"
   ]
  },
  {
   "cell_type": "code",
   "execution_count": 76,
   "metadata": {},
   "outputs": [
    {
     "name": "stdout",
     "output_type": "stream",
     "text": [
      "True\n"
     ]
    }
   ],
   "source": [
    "seed_string = \"thecaisblk\"\n",
    "input_string = \"how Cool is thIs encryptiOn scheMe\"\n",
    "\n",
    "encrypter = simple_encryption(seed_string)\n",
    "print((encrypter.encrypt(input_string) == \"bwmdewwzdlqdpblqdaxergvplwxdqebaya\"))\n",
    "\n",
    "#print(encrypter.original_alphabet)\n",
    "#print(encrypter.new_alphabet)"
   ]
  },
  {
   "cell_type": "code",
   "execution_count": 77,
   "metadata": {},
   "outputs": [],
   "source": [
    "class two_way_encryption_class(simple_encryption):\n",
    "    def __init__(self, seed_string):\n",
    "        new_seed = \"\"\n",
    "        for c in range(len(seed_string)):\n",
    "            if seed_string[c] not in new_seed:\n",
    "                new_seed += seed_string[c]\n",
    "        super().__init__(new_seed)\n",
    "        \n",
    "    def decrypt(self, text):\n",
    "        text = text.lower()\n",
    "        decrypted_text = \"\"\n",
    "        for c in text:\n",
    "            idx = self.new_alphabet.index(c)\n",
    "            decrypted_text += self.original_alphabet[idx]\n",
    "        return decrypted_text\n",
    "    \n",
    "    def __repr__(self):\n",
    "        return {\"alphabet\": self.original_alphabet, \"new_alphabet\": self.new_alphabet}\n",
    "        \n",
    "    def __str__(self):\n",
    "        return f\"Your new alphabet is: {self.new_alphabet}\\nYour old alphabet is: {self.original_alphabet}\""
   ]
  },
  {
   "cell_type": "code",
   "execution_count": 78,
   "metadata": {},
   "outputs": [
    {
     "name": "stdout",
     "output_type": "stream",
     "text": [
      "True\n"
     ]
    }
   ],
   "source": [
    "seed_string = \"thecaisblk\"\n",
    "input_string = \"how Cool is thIs encryptiOn scheMe\"\n",
    "\n",
    "new_encrypter = two_way_encryption_class(seed_string)\n",
    "print((new_encrypter.encrypt(input_string) == \"bwmdewwzdlqdpblqdaxergvplwxdqebaya\"))\n",
    "\n",
    "#print(new_encrypter.new_alphabet)"
   ]
  },
  {
   "cell_type": "code",
   "execution_count": 79,
   "metadata": {},
   "outputs": [
    {
     "name": "stdout",
     "output_type": "stream",
     "text": [
      "True\n"
     ]
    }
   ],
   "source": [
    "seed_string = \"thecatisblack\"\n",
    "input_string = \"how Cool is thIs encryptiOn scheMe\"\n",
    "\n",
    "new_encrypter = two_way_encryption_class(seed_string)\n",
    "print((new_encrypter.encrypt(input_string) == \"bwmdewwzdlqdpblqdaxergvplwxdqebaya\"))"
   ]
  },
  {
   "cell_type": "code",
   "execution_count": 80,
   "metadata": {},
   "outputs": [
    {
     "data": {
      "text/plain": [
       "True"
      ]
     },
     "execution_count": 80,
     "metadata": {},
     "output_type": "execute_result"
    }
   ],
   "source": [
    "seed_string = \"thecatisblack\"\n",
    "input_string = \"how Cool is thIs encryptiOn scheMe\"\n",
    "\n",
    "new_encrypter = two_way_encryption_class(seed_string)\n",
    "(new_encrypter.decrypt(new_encrypter.encrypt(input_string)) == \"how cool is this encryption scheme\")"
   ]
  },
  {
   "cell_type": "code",
   "execution_count": 81,
   "metadata": {},
   "outputs": [
    {
     "name": "stdout",
     "output_type": "stream",
     "text": [
      "True\n"
     ]
    }
   ],
   "source": [
    "seed_string = \"thecatisblack\"\n",
    "new_encrypter = two_way_encryption_class(seed_string)\n",
    "print(new_encrypter.__repr__() == {\"alphabet\" : \"abcdefghijklmnopqrstuvwxyz \", \"new_alphabet\" : \"thecaisblk zyxwvurqponmjgfd\"})\n",
    "#print(new_encrypter.__repr__())"
   ]
  },
  {
   "cell_type": "code",
   "execution_count": 82,
   "metadata": {},
   "outputs": [
    {
     "name": "stdout",
     "output_type": "stream",
     "text": [
      "True\n"
     ]
    }
   ],
   "source": [
    "seed_string = \"thecatisblack\"\n",
    "new_encrypter = two_way_encryption_class(seed_string)\n",
    "print(new_encrypter.__str__() == \"Your new alphabet is: thecaisblk zyxwvurqponmjgfd\\nYour old alphabet is: abcdefghijklmnopqrstuvwxyz \")\n",
    "#print(new_encrypter)"
   ]
  },
  {
   "cell_type": "code",
   "execution_count": null,
   "metadata": {},
   "outputs": [],
   "source": []
  }
 ],
 "metadata": {
  "kernelspec": {
   "display_name": "Python 3",
   "language": "python",
   "name": "python3"
  },
  "language_info": {
   "codemirror_mode": {
    "name": "ipython",
    "version": 3
   },
   "file_extension": ".py",
   "mimetype": "text/x-python",
   "name": "python",
   "nbconvert_exporter": "python",
   "pygments_lexer": "ipython3",
   "version": "3.7.5"
  }
 },
 "nbformat": 4,
 "nbformat_minor": 2
}
