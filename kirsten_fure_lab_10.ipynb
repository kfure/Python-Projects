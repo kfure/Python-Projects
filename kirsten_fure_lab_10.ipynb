{
 "cells": [
  {
   "cell_type": "markdown",
   "metadata": {},
   "source": [
    "Rules of doing this Lab\n",
    "\n",
    "1. We release the lab at 9 am\n",
    "2. You can ask me questions till 11 am in the lab session\n",
    "4. You have till 8 PM to finish the lab\n",
    "4. You will submit an ipython notebook with the following schema: firstname_lastname_lab_number.ipynb. So for example mine would be: *rahul_khanna_lab_10.ipynb*\n",
    "5. Your grade will be determined by what you submit.\n",
    "6. Do this work indiviually!\n",
    "\n",
    "Note: You are able to submit multiple times before 8 PM, so submit as often as you'd like.\n",
    "\n",
    "* DEN Students everything above applies to you as well, except for the deadline, you will have till 11:59 PM the next day to submit.\n",
    "\n",
    "**Please** do not use print statements inside your functions, the function should return whatever value, and in the next cell you should output the result of your function. If you do not return the output in the next cell you will loose points. Please look at the below example.\n",
    "\n",
    "Ex:\n",
    "\n",
    "Cell 1:\n",
    "\n",
    "`def dummy_function():`\n",
    "\n",
    "`return \"hi\"`\n",
    "\n",
    "Cell 2:\n",
    "\n",
    "`dummy_function()` <-jupyter notebook would print out \"hi\" here for you -- PLEASE DO THIS LAST STEP\n",
    "\n",
    "**These labs are supposed to challenge you, if you don't do the reading beforehand then you will *not* be able to finish the lab. This is grad level course, I expect you to stay on top of the readings.**\n",
    "\n",
    "**I also expect you to try out the functions before coming to me, understand the inputs the outputs, roughly what it does. If you do not show an attempt to understand the function I will ask you to move to the back of the line of people asking questions.**\n",
    "\n",
    "**Finally I expect you to use google and stack overflow to find answers to your questions.**\n",
    "\n",
    "Good luck!"
   ]
  },
  {
   "cell_type": "code",
   "execution_count": 20,
   "metadata": {},
   "outputs": [],
   "source": [
    "import pandas as pd\n",
    "import numpy as np"
   ]
  },
  {
   "cell_type": "markdown",
   "metadata": {},
   "source": [
    "### Question 1 (5 Points)\n",
    "\n",
    "This lab will be about Pandas.\n",
    "\n",
    "Your first task is to read in the provided csv file, and drop any columns that have NaN in it\n",
    "\n",
    "3 points for correct code\n",
    "\n",
    "2 points for passing the test case\n",
    "\n",
    "Please name your dataframe turing_data"
   ]
  },
  {
   "cell_type": "code",
   "execution_count": 31,
   "metadata": {},
   "outputs": [
    {
     "data": {
      "text/plain": [
       "Index(['Year', 'Recipient', 'Photo', 'Rationale'], dtype='object')"
      ]
     },
     "execution_count": 31,
     "metadata": {},
     "output_type": "execute_result"
    }
   ],
   "source": [
    "### FYI -- to myself - Pandas doesn't seem to work well with looping -- thinking more\n",
    "##  about FILTERING from one dataframe to another\n",
    "orig_turing_data.columns"
   ]
  },
  {
   "cell_type": "code",
   "execution_count": 39,
   "metadata": {},
   "outputs": [],
   "source": [
    "orig_turing_data = pd.read_csv('turing_prize_winners.csv')"
   ]
  },
  {
   "cell_type": "code",
   "execution_count": 47,
   "metadata": {},
   "outputs": [],
   "source": [
    "for columns in orig_turing_data:\n",
    "    if orig_turing_data[columns].isnull().values.any() == True:\n",
    "        turing_data = orig_turing_data.drop(columns, axis=1)"
   ]
  },
  {
   "cell_type": "code",
   "execution_count": 48,
   "metadata": {},
   "outputs": [
    {
     "data": {
      "text/plain": [
       "True"
      ]
     },
     "execution_count": 48,
     "metadata": {},
     "output_type": "execute_result"
    }
   ],
   "source": [
    "turing_data.shape == (70, 3)"
   ]
  },
  {
   "cell_type": "markdown",
   "metadata": {},
   "source": [
    "### Question 2 (5 Points)\n",
    "\n",
    "Next please figure out which years had the most Turing prize winners, each row in this csv file represents a winner of the Turing prize\n",
    "\n",
    "3 points for correct code\n",
    "\n",
    "2 points for passing the test case\n",
    "\n",
    "Again please name your answer \"years_with_most_number_of_winners\""
   ]
  },
  {
   "cell_type": "code",
   "execution_count": 125,
   "metadata": {},
   "outputs": [],
   "source": [
    "max = turing_data.groupby('Year').count().max().values[0]\n",
    "winner_count = turing_data.groupby('Year').count()\n",
    "x = winner_count[winner_count['Recipient'] == max]\n",
    "years_with_most_number_of_winners = set(x.index.values)\n"
   ]
  },
  {
   "cell_type": "code",
   "execution_count": 126,
   "metadata": {},
   "outputs": [
    {
     "data": {
      "text/plain": [
       "True"
      ]
     },
     "execution_count": 126,
     "metadata": {},
     "output_type": "execute_result"
    }
   ],
   "source": [
    "years_with_most_number_of_winners == set([2018, 2007, 2002])"
   ]
  },
  {
   "cell_type": "markdown",
   "metadata": {},
   "source": [
    "### Question 3 (5 Points)\n",
    "\n",
    "Next please figure out which first name (not full name) appears the most, you can add a column to your dataframe if you'd like to\n",
    "\n",
    "3 points for correct code\n",
    "\n",
    "2 points for passing the test case\n",
    "\n",
    "Again please name your answer \"first_name_appearing_the_most\""
   ]
  },
  {
   "cell_type": "code",
   "execution_count": 153,
   "metadata": {},
   "outputs": [
    {
     "data": {
      "text/plain": [
       "'John'"
      ]
     },
     "execution_count": 153,
     "metadata": {},
     "output_type": "execute_result"
    }
   ],
   "source": [
    "turing_data['first'] = turing_data['Recipient'].str.split(\" \",n=1,expand=True)[0]\n",
    "max = turing_data.groupby('first').count().max().values[0]\n",
    "name_count = turing_data.groupby('first').count()\n",
    "name = name_count[name_count['Recipient'] == max]\n",
    "first_name_appearing_the_most = name.index.values[0]\n",
    "first_name_appearing_the_most"
   ]
  },
  {
   "cell_type": "code",
   "execution_count": 154,
   "metadata": {},
   "outputs": [
    {
     "data": {
      "text/plain": [
       "True"
      ]
     },
     "execution_count": 154,
     "metadata": {},
     "output_type": "execute_result"
    }
   ],
   "source": [
    "first_name_appearing_the_most == \"John\""
   ]
  },
  {
   "cell_type": "markdown",
   "metadata": {},
   "source": [
    "### Question 4 (5 Points)\n",
    "\n",
    "Finally please figure out the average, min and max Rationale lengths, you can add a column to your dataframe if you'd like to\n",
    "\n",
    "3 points for correct code\n",
    "\n",
    "2 points for passing the test case\n",
    "\n",
    "Again please name your answer \"min_max_average_rationale_lengths\"\n",
    "\n",
    "* Round your average up to the nearest integer"
   ]
  },
  {
   "cell_type": "code",
   "execution_count": 188,
   "metadata": {},
   "outputs": [],
   "source": [
    "turing_data['count'] = turing_data['Rationale'].str.split()\n",
    "data = turing_data['count'].apply(lambda x: len(x))"
   ]
  },
  {
   "cell_type": "code",
   "execution_count": 189,
   "metadata": {},
   "outputs": [],
   "source": [
    "min_max_average_rationale_lengths = (round(data.min()), round(data.max()), round(data.mean()))"
   ]
  },
  {
   "cell_type": "code",
   "execution_count": 190,
   "metadata": {},
   "outputs": [
    {
     "data": {
      "text/plain": [
       "True"
      ]
     },
     "execution_count": 190,
     "metadata": {},
     "output_type": "execute_result"
    }
   ],
   "source": [
    "min_max_average_rationale_lengths == (7, 87, 26)"
   ]
  },
  {
   "cell_type": "code",
   "execution_count": 218,
   "metadata": {},
   "outputs": [
    {
     "name": "stdout",
     "output_type": "stream",
     "text": [
      "Year                                                      1971\n",
      "Recipient                                        John McCarthy\n",
      "Rationale    McCarthy's lecture \"The Present State of Resea...\n",
      "first                                                     John\n",
      "count        [McCarthy's, lecture, \"The, Present, State, of...\n",
      "Name: 5, dtype: object\n",
      "Year         5\n",
      "Recipient    5\n",
      "Rationale    5\n",
      "Name: John, dtype: int64\n",
      "Year         1\n",
      "Recipient    1\n",
      "Rationale    1\n",
      "Name: Amir, dtype: int64\n",
      "0         Alan J. Perlis\n",
      "1         Maurice Wilkes\n",
      "2        Richard Hamming\n",
      "3          Marvin Minsky\n",
      "4     James H. Wilkinson\n",
      "             ...        \n",
      "65      John L. Hennessy\n",
      "66    David A. Patterson\n",
      "67         Yoshua Bengio\n",
      "68       Geoffrey Hinton\n",
      "69            Yann LeCun\n",
      "Name: Recipient, Length: 70, dtype: object\n",
      "McCarthy's lecture \"The Present State of Research on Artificial Intelligence\" is a topic that covers the area in which he has achieved considerable recognition for his work.[15]\n"
     ]
    }
   ],
   "source": [
    "print(turing_data.iloc[5])  #to get the 5th row (iloc or loc same here)\n",
    "print(name_count.loc['John'])  # to get the row for John (has to be loc here, cannot use iloc)\n",
    "print(name_count.iloc[3])   #can use iloc with the name index but an integer row number inde value\n",
    "print(turing_data['Recipient'])   #to get the column/series for \"Recipient column\"\n",
    "print(turing_data.loc[5,'Rationale']) #print just the value at row 5 for column Rationale\n",
    "#print(turing_data.loc['John','Rationale']) -- cannot use with name index for some reason - only row number index"
   ]
  }
 ],
 "metadata": {
  "kernelspec": {
   "display_name": "Python 3",
   "language": "python",
   "name": "python3"
  },
  "language_info": {
   "codemirror_mode": {
    "name": "ipython",
    "version": 3
   },
   "file_extension": ".py",
   "mimetype": "text/x-python",
   "name": "python",
   "nbconvert_exporter": "python",
   "pygments_lexer": "ipython3",
   "version": "3.7.3"
  }
 },
 "nbformat": 4,
 "nbformat_minor": 2
}
