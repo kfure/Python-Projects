{
 "cells": [
  {
   "cell_type": "code",
   "execution_count": 147,
   "metadata": {},
   "outputs": [],
   "source": [
    "import sqlite3"
   ]
  },
  {
   "cell_type": "markdown",
   "metadata": {},
   "source": [
    "Creating a Database Named: food.db\n",
    "with two tables: Menus, Restaurants"
   ]
  },
  {
   "cell_type": "code",
   "execution_count": 53,
   "metadata": {},
   "outputs": [],
   "source": [
    "def create_tables(cur):\n",
    "    cur.execute('DROP TABLE IF EXISTS Menus')\n",
    "    cur.execute('DROP TABLE IF EXISTS Restaurants')\n",
    "    cur.execute('CREATE TABLE Menus (menu_id INTEGER, food_item TEXT, price REAL)')\n",
    "    conn.commit()\n",
    "    cur.execute('CREATE TABLE Restaurants (restaurant_id INTEGER, restaurant_name TEXT, restaurant_location TEXT, menu_id INTEGER)')\n",
    "    conn.commit()\n",
    "    "
   ]
  },
  {
   "cell_type": "code",
   "execution_count": 150,
   "metadata": {},
   "outputs": [],
   "source": [
    "conn = sqlite3.connect('food.db')\n",
    "cur = conn.cursor()\n",
    "create_tables(cur)\n",
    "conn.commit()"
   ]
  },
  {
   "cell_type": "code",
   "execution_count": 151,
   "metadata": {},
   "outputs": [
    {
     "data": {
      "text/plain": [
       "True"
      ]
     },
     "execution_count": 151,
     "metadata": {},
     "output_type": "execute_result"
    }
   ],
   "source": [
    "cur.execute(\"SELECT name FROM sqlite_master\")\n",
    "result = cur.fetchall()\n",
    "set(result) == set([('Menus',), ('Restaurants',)])"
   ]
  },
  {
   "cell_type": "code",
   "execution_count": 152,
   "metadata": {},
   "outputs": [
    {
     "data": {
      "text/plain": [
       "True"
      ]
     },
     "execution_count": 152,
     "metadata": {},
     "output_type": "execute_result"
    }
   ],
   "source": [
    "cur.execute(\"SELECT sql FROM sqlite_master\")\n",
    "result = cur.fetchall()\n",
    "(\"(menu_id INTEGER, food_item TEXT, price REAL)\" in result[0][0]) and \\\n",
    "(\"(restaurant_id INTEGER, restaurant_name TEXT, restaurant_location TEXT, menu_id INTEGER)\" in result[1][0])"
   ]
  },
  {
   "cell_type": "code",
   "execution_count": 153,
   "metadata": {},
   "outputs": [],
   "source": [
    "def read_csv(filename):\n",
    "    h = 0\n",
    "    c = 0\n",
    "    data = {}\n",
    "    k = []\n",
    "    try:\n",
    "        with open(filename, 'r') as fin:\n",
    "             for line in fin:\n",
    "                words = line.split(',')\n",
    "                for w in words:\n",
    "                    w = w.strip()\n",
    "                    if h == 0:\n",
    "                        data[w] = []\n",
    "                        k.append(w)\n",
    "                    else:\n",
    "                        data[k[c]].append(w)\n",
    "                        c += 1\n",
    "                h = 1 \n",
    "                c = 0\n",
    "    except FileNotFoundError as e:\n",
    "        print(f'Error: Cannot open file.{e}')\n",
    "    except IOError as e:\n",
    "        print(f'IO Error: Cannot open file.{e}')\n",
    "    except PermissionError as e:\n",
    "        print(f'Error: Cannot open file due to permissions. Need access rights.{e}')\n",
    "    except Exception as e:\n",
    "        print(f'Unexpected Error. {e}')\n",
    "\n",
    "    return data   \n",
    "    "
   ]
  },
  {
   "cell_type": "code",
   "execution_count": 154,
   "metadata": {},
   "outputs": [],
   "source": [
    "import csv\n",
    "filename = 'data.csv'\n",
    "data = read_csv(filename)"
   ]
  },
  {
   "cell_type": "code",
   "execution_count": 155,
   "metadata": {},
   "outputs": [
    {
     "data": {
      "text/plain": [
       "True"
      ]
     },
     "execution_count": 155,
     "metadata": {},
     "output_type": "execute_result"
    }
   ],
   "source": [
    "len(data) == 4"
   ]
  },
  {
   "cell_type": "code",
   "execution_count": 156,
   "metadata": {},
   "outputs": [
    {
     "data": {
      "text/plain": [
       "True"
      ]
     },
     "execution_count": 156,
     "metadata": {},
     "output_type": "execute_result"
    }
   ],
   "source": [
    "set([\"restaurant_name\", \"restaurant_location\", \"food_item\", \"price\"]) == set(list(data.keys()))"
   ]
  },
  {
   "cell_type": "code",
   "execution_count": 157,
   "metadata": {},
   "outputs": [
    {
     "data": {
      "text/plain": [
       "True"
      ]
     },
     "execution_count": 157,
     "metadata": {},
     "output_type": "execute_result"
    }
   ],
   "source": [
    "len(data[\"restaurant_name\"]) == len(data[\"restaurant_location\"]) == len(data[\"food_item\"]) == len(data[\"price\"]) == 11\n"
   ]
  },
  {
   "cell_type": "markdown",
   "metadata": {},
   "source": [
    "Insert data in to their respective tables. There should be 3 rows in the Restaurants table, one for each restaurant and 11 rows in the Menus table, one for each food item. **DO NOT INSERT THESE MANUALLY.** Please use some sort of loop to iterate through the data you have read in, constructing the needed tuples of information that should be added to the respective table.\n",
    "* *If you cannot figure out how to loop through the data, I will still give you points if you insert things manually and pass the below tests. However, you will get no points for Implementation*\n",
    "\n",
    "\n",
    "**An Example Row in Restaurants Table:**\n",
    "\n",
    "(0, \"Bob's Burgers\", 'Netflix Studios', 0)\n",
    "\n",
    "**An Example Row in Menus Table:**\n",
    "\n",
    "(1, 'scone', 3.8)\n",
    "\n",
    "Useful functions:\n",
    "* execute\n",
    "\n",
    "RELEVANT SQL Keywords:\n",
    "* INSERT INTO\n",
    "* VALUES"
   ]
  },
  {
   "cell_type": "code",
   "execution_count": 158,
   "metadata": {},
   "outputs": [],
   "source": [
    "'''Assuming that the records in csv are loaded and formatted like our sample, where restaurants and their\n",
    "menu items are listed consecutiviely in order by restaurant. This algorithm is comparing the current record with previous\n",
    "record to see if there is a new restaurant being listed, so it relies on this assumption.\n",
    "'''\n",
    "\n",
    "i = 0                                #i is index for position in the data dictionary's values list \n",
    "f = 0                                #f is tracking the uniqe number of restaurants\n",
    "new_flag = False                     #new_flag is set to True only when a new restaurant has been detected so that duplicated records are not inserted for the same restaurant\n",
    "max = len(data['food_item'])         #the number of columns in the data file (aka list items in dictionary values)\n",
    "prev = data['restaurant_name'][0]    #prev stores the previous restaurant. Initializing it to the first restaurant\n",
    "sql = 'INSERT OR IGNORE INTO Restaurants (restaurant_id, restaurant_name, restaurant_location, menu_id) VALUES(?,?,?,?)'   \n",
    "sql_menu = 'INSERT OR IGNORE INTO Menus (menu_id, food_item, price) VALUES(?,?,?)'   \n",
    "\n",
    "for i in range(max):                 #loop through each column in file(aka list items in dictionary values)\n",
    "    for d in data:                   #loop through all dict keys\n",
    "        if d == 'restaurant_name':   #for each dict key, set the current value\n",
    "            name = data[d][i]\n",
    "            if name != prev:\n",
    "                f += 1               #if new restaurant, increase count of unique restaurants\n",
    "                new_flag = True      #set flag for a new restaurant detected\n",
    "            prev = data[d][i]        #store for next loop\n",
    "        if d == 'restaurant_location':\n",
    "            loc = data[d][i]\n",
    "        if d == 'food_item':\n",
    "            food = data[d][i]\n",
    "        if d == 'price':\n",
    "            price = data[d][i]\n",
    "   \n",
    "    if new_flag == False:            #insert new restaurant when it IS a new restaurant\n",
    "        cur.execute(sql,(f, name, loc, f,))\n",
    "        conn.commit()\n",
    "    cur.execute(sql_menu,(f, food, price,))  #insert menu items for every itme\n",
    "    conn.commit()\n",
    "    i += 1                           #increment position counter\n",
    "    new_flag = False                 #initialize flag for each loop of dict keys / new row in file  "
   ]
  },
  {
   "cell_type": "code",
   "execution_count": 159,
   "metadata": {},
   "outputs": [
    {
     "data": {
      "text/plain": [
       "True"
      ]
     },
     "execution_count": 159,
     "metadata": {},
     "output_type": "execute_result"
    }
   ],
   "source": [
    "cur.execute('SELECT * FROM Restaurants')\n",
    "results = cur.fetchall()\n",
    "set(results) == set([(0, \"Bob's Burgers\", 'Netflix Studios', 0), \n",
    "                     (1, 'Central Perk', '199 Lafayette Street', 1), \n",
    "                     (2, 'Tire Shop Taqueria', '4077 S Avalon Blvd', 2)])"
   ]
  },
  {
   "cell_type": "code",
   "execution_count": 160,
   "metadata": {},
   "outputs": [
    {
     "data": {
      "text/plain": [
       "True"
      ]
     },
     "execution_count": 160,
     "metadata": {},
     "output_type": "execute_result"
    }
   ],
   "source": [
    "cur.execute('SELECT * FROM Menus')\n",
    "results = cur.fetchall()\n",
    "set(results) == set([(0, 'burger', 5.45), \n",
    "                     (0, 'fries', 2.75), \n",
    "                     (0, 'milkshake', 10.98), \n",
    "                     (0, 'grilled cheese', 4.15), \n",
    "                     (1, 'coffee', 3.28), \n",
    "                     (1, 'muffin', 1.75), \n",
    "                     (1, 'scone', 3.8), \n",
    "                     (2, 'taco', 2.0), \n",
    "                     (2, 'quesadilla', 4.0), \n",
    "                     (2, 'mulitas', 3.57), \n",
    "                     (2, 'jarritos', 2.5)])"
   ]
  },
  {
   "cell_type": "code",
   "execution_count": 161,
   "metadata": {},
   "outputs": [],
   "source": [
    "conn.close()"
   ]
  },
  {
   "cell_type": "code",
   "execution_count": null,
   "metadata": {},
   "outputs": [],
   "source": []
  }
 ],
 "metadata": {
  "kernelspec": {
   "display_name": "Python 3",
   "language": "python",
   "name": "python3"
  },
  "language_info": {
   "codemirror_mode": {
    "name": "ipython",
    "version": 3
   },
   "file_extension": ".py",
   "mimetype": "text/x-python",
   "name": "python",
   "nbconvert_exporter": "python",
   "pygments_lexer": "ipython3",
   "version": "3.7.5"
  }
 },
 "nbformat": 4,
 "nbformat_minor": 2
}
