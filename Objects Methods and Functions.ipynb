{
 "cells": [
  {
   "cell_type": "markdown",
   "metadata": {},
   "source": [
    "# Objects, Methods and Functions"
   ]
  },
  {
   "cell_type": "code",
   "execution_count": 2,
   "metadata": {},
   "outputs": [],
   "source": [
    "class lecture:\n",
    "    \"\"\"\n",
    "        The lecture class will have the following attributes that will be passed as parameters during creation:\n",
    "        Professor Name\n",
    "        Start Time\n",
    "        End Time\n",
    "        id\n",
    "        \n",
    "        And the class will have the following variables that will be initilazed during creation:\n",
    "        students = a list of student names (strings)\n",
    "        ratings - a list that will contain integer ratings from 0 to 10\n",
    "        is_homework - a boolean value\n",
    "        \n",
    "    \"\"\"\n",
    "    def __init__(self, prof_name, start_time, end_time, id):\n",
    "        self.prof_name = prof_name\n",
    "        self.start_time = start_time\n",
    "        self.end_time = end_time\n",
    "        self.id = id\n",
    "        \n",
    "        self.students = []\n",
    "        self.ratings = []\n",
    "        self.is_homework = False\n",
    "        \n",
    "        \n",
    "    def add_student(self, name):\n",
    "        \"\"\" This function will one student at a time to the lecture.\n",
    "            If name is empty, it will not be added to the list.\n",
    "        \"\"\"\n",
    "        if name:                       \n",
    "            self.students.append(name)\n",
    "    \n",
    "    def rem_student(self, name):\n",
    "        \"\"\" This function will remove one student at a time from the lecture, based upon the name passed.\n",
    "            If the name exists, it will be removed from the list.\n",
    "            If the name does not exist in the list of students, no change.\n",
    "        \"\"\"\n",
    "        if name in self.students:\n",
    "            self.students.remove(name)\n",
    "        \n",
    "    def add_rating(self, rating):     \n",
    "        \"\"\" This function will add one rating at a time to the lecture.\n",
    "            If rating is not numeric, it will not be added because we cannot compute an average\n",
    "            Setting limit for ratings from 0 to 10.\n",
    "            If rating cannot be converted to an integer, it will not be added to ratings.\n",
    "        \"\"\"\n",
    "        try:\n",
    "            rating = int(rating)           \n",
    "            if rating > 10:\n",
    "                rating = 10             \n",
    "            elif rating < 0:\n",
    "                rating = 0\n",
    "            self.ratings.append(rating)\n",
    "        except:                         \n",
    "            pass\n",
    "    \n",
    "    def average_rating(self):\n",
    "        \"\"\" This function will calculate the average for all ratings in the lecture.\n",
    "            If there were no ratings, it will return 0.\n",
    "        \"\"\"\n",
    "        count = total = 0\n",
    "        for rating in self.ratings:\n",
    "            count += 1\n",
    "            total += rating\n",
    "        if count == 0:\n",
    "            return 0\n",
    "        print(sum(self.ratings)/len(self.ratings))  ####I could have just returned sum(self.ratings)/len(self.ratings)\n",
    "        return total/count\n",
    "    \n",
    "    \n",
    "    \n",
    "    def set_is_there_hw(self):\n",
    "        \"\"\" This function will change the boolean setting to the opposite of the current state. \n",
    "        \"\"\"\n",
    "        if self.is_homework :\n",
    "            self.is_homework = False\n",
    "        else:\n",
    "            self.is_homework = True\n",
    "            \n",
    "    \n",
    "    def get_is_there_hw(self):\n",
    "        \"\"\" This function will return the boolean of the attribute is_homework.\n",
    "        \"\"\"\n",
    "        return self.is_homework"
   ]
  },
  {
   "cell_type": "code",
   "execution_count": 3,
   "metadata": {},
   "outputs": [
    {
     "name": "stdout",
     "output_type": "stream",
     "text": [
      "['Kirsten', 'Joe', 'Ray', 'Bob']\n",
      "0\n",
      "6.25\n",
      "6.25\n"
     ]
    }
   ],
   "source": [
    "Python510 = lecture('Abramson', '12:00', '1:30', 'INF510' )  \n",
    "Python510.add_student('Kirsten')\n",
    "Python510.add_student('Joe')\n",
    "Python510.add_student('Ray')\n",
    "Python510.add_student('Bob')\n",
    "print(Python510.students)\n",
    "print(Python510.average_rating())\n",
    "Python510.add_rating(5)\n",
    "Python510.add_rating(-5)\n",
    "Python510.add_rating(10)\n",
    "Python510.add_rating(200)\n",
    "print(Python510.average_rating())\n",
    "Python510.rem_student('Hal')"
   ]
  },
  {
   "cell_type": "code",
   "execution_count": 4,
   "metadata": {},
   "outputs": [],
   "source": [
    "Python510.rem_student('Bob')"
   ]
  },
  {
   "cell_type": "code",
   "execution_count": 4,
   "metadata": {},
   "outputs": [
    {
     "name": "stdout",
     "output_type": "stream",
     "text": [
      "['Kirsten', 'Joe', 'Ray', 'Bob']\n"
     ]
    }
   ],
   "source": [
    "print(Python510.students)"
   ]
  },
  {
   "cell_type": "code",
   "execution_count": 5,
   "metadata": {},
   "outputs": [
    {
     "name": "stdout",
     "output_type": "stream",
     "text": [
      "False\n"
     ]
    }
   ],
   "source": [
    "print(Python510.get_is_there_hw())"
   ]
  },
  {
   "cell_type": "code",
   "execution_count": 6,
   "metadata": {},
   "outputs": [],
   "source": [
    "Python510.set_is_there_hw()"
   ]
  },
  {
   "cell_type": "code",
   "execution_count": 7,
   "metadata": {},
   "outputs": [
    {
     "name": "stdout",
     "output_type": "stream",
     "text": [
      "True\n"
     ]
    }
   ],
   "source": [
    "print(Python510.get_is_there_hw())"
   ]
  },
  {
   "cell_type": "code",
   "execution_count": 8,
   "metadata": {},
   "outputs": [],
   "source": [
    "Python510.add_rating('9')"
   ]
  },
  {
   "cell_type": "code",
   "execution_count": 9,
   "metadata": {},
   "outputs": [
    {
     "name": "stdout",
     "output_type": "stream",
     "text": [
      "6.8\n",
      "6.8\n"
     ]
    }
   ],
   "source": [
    "print(Python510.average_rating())"
   ]
  },
  {
   "cell_type": "code",
   "execution_count": 11,
   "metadata": {},
   "outputs": [],
   "source": [
    "Python510.add_rating('YoMama')"
   ]
  },
  {
   "cell_type": "code",
   "execution_count": 12,
   "metadata": {},
   "outputs": [
    {
     "name": "stdout",
     "output_type": "stream",
     "text": [
      "6.8\n"
     ]
    }
   ],
   "source": [
    "print(Python510.average_rating())"
   ]
  },
  {
   "cell_type": "code",
   "execution_count": 13,
   "metadata": {},
   "outputs": [
    {
     "name": "stdout",
     "output_type": "stream",
     "text": [
      "[5, 0, 10, 10, 9]\n"
     ]
    }
   ],
   "source": [
    "print(Python510.ratings)"
   ]
  },
  {
   "cell_type": "code",
   "execution_count": null,
   "metadata": {},
   "outputs": [],
   "source": [
    "#Showing second instance of lecture\n",
    "English20 = lecture('Smith', '12:00', '1:30', 'ENG20' )  \n",
    "English20.add_student('Keith')\n",
    "English20.add_student('Jo')\n",
    "English20.add_student('Rick')\n",
    "English20.add_student('Bobby')\n",
    "print(English20.students)\n",
    "English20.add_rating(1)\n",
    "English20.add_rating('foo')\n",
    "English20.add_rating('2')\n",
    "English20.add_rating(-200)\n",
    "print(English20.average_rating())\n",
    "English20.rem_student('Hal')"
   ]
  },
  {
   "cell_type": "code",
   "execution_count": null,
   "metadata": {},
   "outputs": [],
   "source": [
    "print(English20.ratings)"
   ]
  }
 ],
 "metadata": {
  "kernelspec": {
   "display_name": "Python 3",
   "language": "python",
   "name": "python3"
  },
  "language_info": {
   "codemirror_mode": {
    "name": "ipython",
    "version": 3
   },
   "file_extension": ".py",
   "mimetype": "text/x-python",
   "name": "python",
   "nbconvert_exporter": "python",
   "pygments_lexer": "ipython3",
   "version": "3.7.5"
  }
 },
 "nbformat": 4,
 "nbformat_minor": 2
}
